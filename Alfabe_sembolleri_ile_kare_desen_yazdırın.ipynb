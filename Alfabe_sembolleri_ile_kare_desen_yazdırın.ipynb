{
  "nbformat": 4,
  "nbformat_minor": 0,
  "metadata": {
    "colab": {
      "name": "Alfabe sembolleri ile kare desen yazdırın.ipynb",
      "provenance": [],
      "authorship_tag": "ABX9TyPKWsV/c+N4vR3ZO/zR+mvM",
      "include_colab_link": true
    },
    "kernelspec": {
      "name": "python3",
      "display_name": "Python 3"
    },
    "language_info": {
      "name": "python"
    }
  },
  "cells": [
    {
      "cell_type": "markdown",
      "metadata": {
        "id": "view-in-github",
        "colab_type": "text"
      },
      "source": [
        "<a href=\"https://colab.research.google.com/github/bujihalil1936/Python-Assignments/blob/main/Alfabe_sembolleri_ile_kare_desen_yazd%C4%B1r%C4%B1n.ipynb\" target=\"_parent\"><img src=\"https://colab.research.google.com/assets/colab-badge.svg\" alt=\"Open In Colab\"/></a>"
      ]
    },
    {
      "cell_type": "markdown",
      "metadata": {
        "id": "SL5y98SlcEp-"
      },
      "source": [
        "Write your solutions. \n",
        "Print square pattern with alphabet symbols: \n",
        "output :\n",
        "A A A A A A A \n",
        "B B B B B B B \n",
        "C C C C C C C \n",
        "D D D D D D D \n",
        "E E E E E E E \n",
        "F F F F F F F \n",
        "G G G G G G G "
      ]
    },
    {
      "cell_type": "code",
      "metadata": {
        "colab": {
          "base_uri": "https://localhost:8080/"
        },
        "id": "9aUt-WLQb-_Q",
        "outputId": "e1a2a14c-8c3a-4b5e-e766-2ae9ee8c2480"
      },
      "source": [
        "def square_pattern(n, k):\n",
        "\n",
        "    for i in range(ord(n), ord(n)+k):\n",
        "       for j in range(k):\n",
        "          print(chr(i), end= \" \")\n",
        "       print()\n",
        "\n",
        "square_pattern(\"A\", 7)"
      ],
      "execution_count": 1,
      "outputs": [
        {
          "output_type": "stream",
          "name": "stdout",
          "text": [
            "A A A A A A A \n",
            "B B B B B B B \n",
            "C C C C C C C \n",
            "D D D D D D D \n",
            "E E E E E E E \n",
            "F F F F F F F \n",
            "G G G G G G G \n"
          ]
        }
      ]
    }
  ]
}