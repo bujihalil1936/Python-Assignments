{
  "nbformat": 4,
  "nbformat_minor": 0,
  "metadata": {
    "colab": {
      "name": "küme.ipynb",
      "provenance": [],
      "authorship_tag": "ABX9TyOUFZdSbfXnIfklv1s/icKf",
      "include_colab_link": true
    },
    "kernelspec": {
      "name": "python3",
      "display_name": "Python 3"
    },
    "language_info": {
      "name": "python"
    }
  },
  "cells": [
    {
      "cell_type": "markdown",
      "metadata": {
        "id": "view-in-github",
        "colab_type": "text"
      },
      "source": [
        "<a href=\"https://colab.research.google.com/github/bujihalil1936/Python-Assignments/blob/main/k%C3%BCme.ipynb\" target=\"_parent\"><img src=\"https://colab.research.google.com/assets/colab-badge.svg\" alt=\"Open In Colab\"/></a>"
      ]
    },
    {
      "cell_type": "markdown",
      "metadata": {
        "id": "Gz73oiXCW4g8"
      },
      "source": [
        "This problem was asked by Google.\n",
        "The power set of a set is the set of all its subsets. Write a function\n",
        "that, given a set, generates its power set.\n",
        "For example, given the set {1, 2, 3}, it should return {{}, {1}, {2}, {3},\n",
        "{1, 2}, {1, 3}, {2, 3}, {1, 2, 3}}.\n",
        "You may also use a list or array to represent a set."
      ]
    },
    {
      "cell_type": "code",
      "metadata": {
        "colab": {
          "base_uri": "https://localhost:8080/"
        },
        "id": "3oYahzmtWJow",
        "outputId": "f457574c-3d99-42f2-b788-031fb0538216"
      },
      "source": [
        "def power_set(a):   \n",
        "    a = list(a)\n",
        "    b = [[]]\n",
        "    for i in a:\n",
        "        for j in b:\n",
        "            b = b + [list(j) + [i]]\n",
        "    return b\n",
        "\n",
        "power_set({1,2,3,4,5})"
      ],
      "execution_count": 2,
      "outputs": [
        {
          "output_type": "execute_result",
          "data": {
            "text/plain": [
              "[[],\n",
              " [1],\n",
              " [2],\n",
              " [1, 2],\n",
              " [3],\n",
              " [1, 3],\n",
              " [2, 3],\n",
              " [1, 2, 3],\n",
              " [4],\n",
              " [1, 4],\n",
              " [2, 4],\n",
              " [1, 2, 4],\n",
              " [3, 4],\n",
              " [1, 3, 4],\n",
              " [2, 3, 4],\n",
              " [1, 2, 3, 4],\n",
              " [5],\n",
              " [1, 5],\n",
              " [2, 5],\n",
              " [1, 2, 5],\n",
              " [3, 5],\n",
              " [1, 3, 5],\n",
              " [2, 3, 5],\n",
              " [1, 2, 3, 5],\n",
              " [4, 5],\n",
              " [1, 4, 5],\n",
              " [2, 4, 5],\n",
              " [1, 2, 4, 5],\n",
              " [3, 4, 5],\n",
              " [1, 3, 4, 5],\n",
              " [2, 3, 4, 5],\n",
              " [1, 2, 3, 4, 5]]"
            ]
          },
          "metadata": {},
          "execution_count": 2
        }
      ]
    }
  ]
}