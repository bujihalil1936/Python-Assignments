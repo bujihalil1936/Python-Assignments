{
  "nbformat": 4,
  "nbformat_minor": 0,
  "metadata": {
    "colab": {
      "name": "Sayının OBEB' ini bulma .ipynb adlı not defterinin kopyası adlı not defterinin kopyası",
      "provenance": [],
      "authorship_tag": "ABX9TyMQUTMrEhU0v8qWRVfvsmp0",
      "include_colab_link": true
    },
    "kernelspec": {
      "name": "python3",
      "display_name": "Python 3"
    },
    "language_info": {
      "name": "python"
    }
  },
  "cells": [
    {
      "cell_type": "markdown",
      "metadata": {
        "id": "view-in-github",
        "colab_type": "text"
      },
      "source": [
        "<a href=\"https://colab.research.google.com/github/bujihalil1936/Python-Assignments/blob/main/Say%C4%B1n%C4%B1n_OBEB'_ini_bulma_.ipynb\" target=\"_parent\"><img src=\"https://colab.research.google.com/assets/colab-badge.svg\" alt=\"Open In Colab\"/></a>"
      ]
    },
    {
      "cell_type": "markdown",
      "metadata": {
        "id": "FkFUY__avDAj"
      },
      "source": [
        "65 ve 25 sayılarının OBEB ' ini bulunuz ( Ortak Bölenlerin En Büyüğü )\n"
      ]
    },
    {
      "cell_type": "code",
      "metadata": {
        "colab": {
          "base_uri": "https://localhost:8080/"
        },
        "id": "v_Si9UP8vBrP",
        "outputId": "f6b680b4-ce2f-4989-dd7c-0f9a9bc95d4f"
      },
      "source": [
        "def obeb (a, b) : \n",
        "  \n",
        "  # ilk parametreyi büyük olan sayı olarak giriniz .\n",
        "  \n",
        "    if b == 0 :\n",
        "        return a\n",
        "    else :\n",
        "        return obeb(b, a % b)\n",
        "obeb(65,25)"
      ],
      "execution_count": null,
      "outputs": [
        {
          "output_type": "execute_result",
          "data": {
            "text/plain": [
              "5"
            ]
          },
          "metadata": {},
          "execution_count": 4
        }
      ]
    },
    {
      "cell_type": "code",
      "metadata": {
        "colab": {
          "base_uri": "https://localhost:8080/"
        },
        "id": "_pm2pPOZvyxL",
        "outputId": "f38b928e-f87a-4bfb-872b-c08ad9401fb0"
      },
      "source": [
        "def obeb(a,b):\n",
        "\tlist_a = []\n",
        "\tlist_b = []\n",
        "\tfor i in range(1,a+1) :\n",
        "\t\tif a % i == 0 :\n",
        "\t\t\tlist_a.append(i)\n",
        "\tfor j in range(1,b +1) :\n",
        "\t\tif b % j == 0 :\n",
        "\t\t\tlist_b.append(j)\n",
        "\tinter = set(list_a).intersection(set(list_b))\n",
        "\treturn max(inter)\n",
        "\t\n",
        "print(obeb(10,15))"
      ],
      "execution_count": null,
      "outputs": [
        {
          "output_type": "stream",
          "name": "stdout",
          "text": [
            "5\n"
          ]
        }
      ]
    }
  ]
}