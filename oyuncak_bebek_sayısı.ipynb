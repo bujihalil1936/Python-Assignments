{
  "nbformat": 4,
  "nbformat_minor": 0,
  "metadata": {
    "colab": {
      "name": "oyuncak bebek sayısı.ipynb",
      "provenance": [],
      "authorship_tag": "ABX9TyOKNTqv3+A5bUmhOhNAWub4",
      "include_colab_link": true
    },
    "kernelspec": {
      "name": "python3",
      "display_name": "Python 3"
    },
    "language_info": {
      "name": "python"
    }
  },
  "cells": [
    {
      "cell_type": "markdown",
      "metadata": {
        "id": "view-in-github",
        "colab_type": "text"
      },
      "source": [
        "<a href=\"https://colab.research.google.com/github/bujihalil1936/Python-Assignments/blob/main/oyuncak_bebek_say%C4%B1s%C4%B1.ipynb\" target=\"_parent\"><img src=\"https://colab.research.google.com/assets/colab-badge.svg\" alt=\"Open In Colab\"/></a>"
      ]
    },
    {
      "cell_type": "markdown",
      "metadata": {
        "id": "FcqPYNZeX4oi"
      },
      "source": [
        "Description\n",
        "Russian nesting dolls are brightly painted hollow wooden figures. The dolls in a set have roughly the same shape, typically humanoid, but different sizes. When the set is assembled, the biggest doll contains the second-biggest doll, the second-biggest contains the third-biggest, and so on.\n",
        "We can approximate the shape of a doll as a cylinder of height h, diameter d, and wall thickness w. Such a doll would have a hollow of height h-2w and diameter d-2w.\n",
        "Boris and Natasha each has a set of dolls. The sets are nearly identical; each has the same number of dolls, which look the same but differ in their dimensions. Last night Boris and Natasha were playing with their dolls and left them in the living room. Their mother tidied them away, dumping them all in one box. Can you help Boris and Natasha separate their sets of dolls?\n",
        "Input\n",
        "Standard Input will consist of several test cases. The first line of each test case will contain n, the number of dolls in each set (1 < n <= 100). 2n lines follow; each gives the dimensions, h, d, w of a different doll (h,d >= 2w > 0). A line containing 0 follows the last test case.\n",
        "Output\n",
        "For each test case, separate the dolls into two sets of nesting dolls such that, within each set, the dolls fit within each other, standing straight up, as described above. The first n lines of output should give the dimensions of the dolls in one set, in decreasing order by height. The next line should contain a single hyphen, \"-\". The next n lines should give the dimensions of the dolls in the second set, also in decreasing order by height. There will always be a solution. If there are many solutions, any will do. Output an empty line between test cases.\n",
        "Sample Input\n",
        "\n",
        "3\n",
        "100 100 3\n",
        "97 97 3\n",
        "94 94 3\n",
        "91 91 3\n",
        "88 88 3\n",
        "85 85 3\n",
        "5\n",
        "100 100 1\n",
        "97 97 3\n",
        "98 98 1\n",
        "96 96 1\n",
        "94 94 1\n",
        "92 92 1\n",
        "90 90 1\n",
        "88 88 1\n",
        "86 86 1\n",
        "84 84 1\n",
        "0\n",
        "Sample Output\n",
        "\n",
        "100 100 3\n",
        "94 94 3\n",
        "88 88 3\n",
        "-\n",
        "97 97 3\n",
        "91 91 3\n",
        "85 85 3\n",
        "\n",
        "100 100 1\n",
        "98 98 1\n",
        "96 96 1\n",
        "94 94 1\n",
        "92 92 1\n",
        "-\n",
        "97 97 3\n",
        "90 90 1\n",
        "88 88 1\n",
        "86 86 1\n",
        "84 84 1"
      ]
    },
    {
      "cell_type": "code",
      "metadata": {
        "colab": {
          "base_uri": "https://localhost:8080/"
        },
        "id": "h8LsLoP7Xkc8",
        "outputId": "9c7b7b87-36b2-4867-8706-b78b041c1abb"
      },
      "source": [
        "n = 5\n",
        "cases = '''100 100 1\n",
        "97 97 3\n",
        "98 98 1\n",
        "96 96 1\n",
        "94 94 1\n",
        "92 92 1\n",
        "90 90 1\n",
        "88 88 1\n",
        "86 86 1\n",
        "84 84 1'''.split()\n",
        "\n",
        "new, news, res, liste, new_list = [], [], [], [], []\n",
        "\n",
        "for i in range(1, len(cases) + 1):\n",
        "    new.append(int(cases[i - 1]))\n",
        "    if i % 3 == 0:\n",
        "        news.append(new)\n",
        "        new = []\n",
        "\n",
        "for i in news:\n",
        "    a = i[0] - i[2] * 2\n",
        "    b = i[1] - i[2] * 2\n",
        "    res.append([a, b])\n",
        "\n",
        "ikili = list(zip(news, res))\n",
        "sirali = sorted(ikili, reverse=True, key=lambda x : x[1])\n",
        "\n",
        "count = len(news) // n\n",
        "a = 0\n",
        "while a <= count - 1:\n",
        "    liste.append(sirali[0])\n",
        "    for i in range(1, len(sirali) + 1):\n",
        "        if sirali[i][0][0] <= liste[-1][1][0]:\n",
        "            liste.append(sirali[i])\n",
        "        if len(liste) == n:\n",
        "            a += 1\n",
        "            sirali = [i for i in sirali if i not in liste]\n",
        "            new_list.extend(liste)\n",
        "            liste = []\n",
        "            break\n",
        "b = 0\n",
        "while b < len(news):\n",
        "    if b != n:\n",
        "        print(new_list[b][0])\n",
        "        b += 1\n",
        "    else:\n",
        "        print('-')\n",
        "        print(new_list[b][0])\n",
        "        b += 1 "
      ],
      "execution_count": 1,
      "outputs": [
        {
          "output_type": "stream",
          "name": "stdout",
          "text": [
            "[100, 100, 1]\n",
            "[98, 98, 1]\n",
            "[96, 96, 1]\n",
            "[94, 94, 1]\n",
            "[92, 92, 1]\n",
            "-\n",
            "[97, 97, 3]\n",
            "[90, 90, 1]\n",
            "[88, 88, 1]\n",
            "[86, 86, 1]\n",
            "[84, 84, 1]\n"
          ]
        }
      ]
    }
  ]
}