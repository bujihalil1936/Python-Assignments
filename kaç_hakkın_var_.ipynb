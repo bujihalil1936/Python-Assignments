{
  "nbformat": 4,
  "nbformat_minor": 0,
  "metadata": {
    "colab": {
      "name": "kaç hakkın var .ipynb",
      "provenance": [],
      "authorship_tag": "ABX9TyO5kB3sPICZpKZN+VaH25mp",
      "include_colab_link": true
    },
    "kernelspec": {
      "name": "python3",
      "display_name": "Python 3"
    },
    "language_info": {
      "name": "python"
    }
  },
  "cells": [
    {
      "cell_type": "markdown",
      "metadata": {
        "id": "view-in-github",
        "colab_type": "text"
      },
      "source": [
        "<a href=\"https://colab.research.google.com/github/bujihalil1936/Python-Assignments/blob/main/ka%C3%A7_hakk%C4%B1n_var_.ipynb\" target=\"_parent\"><img src=\"https://colab.research.google.com/assets/colab-badge.svg\" alt=\"Open In Colab\"/></a>"
      ]
    },
    {
      "cell_type": "code",
      "metadata": {
        "colab": {
          "base_uri": "https://localhost:8080/"
        },
        "id": "zOWK6iSQT069",
        "outputId": "bc9d8d1a-0248-4481-94b0-6c5849cd1a54"
      },
      "source": [
        "count = 3\n",
        "fruits = [\"banana\", \"mango\", \"pear\", \"apple\", \"kiwi\", \"grape\"]\n",
        "while count > 0 :\n",
        "    \n",
        "    try :\n",
        "        index = int(input(\"Pick an index number to choose your favorite fruit :\"))\n",
        "        print(\"Your favorite fruit is : \", fruits[index])\n",
        "        \n",
        "    except IndexError :\n",
        "        count -= 1\n",
        "        print(f\"There is no such an Index. You have {count} tries remaining. Try again!\")\n",
        "        \n",
        "    except ValueError :\n",
        "        count -= 1\n",
        "        print(f\"You should enter integer. You have {count} tries remaining. Try again!\")\n",
        "        \n",
        "    else :\n",
        "        print(\"Congrats! You have entered a valid input.\")\n",
        "        break\n",
        "    finally :\n",
        "        print(\"Our fruits are always fresh!\")"
      ],
      "execution_count": 3,
      "outputs": [
        {
          "output_type": "stream",
          "name": "stdout",
          "text": [
            "Pick an index number to choose your favorite fruit :banana\n",
            "You should enter integer. You have 2 tries remaining. Try again!\n",
            "Our fruits are always fresh!\n",
            "Pick an index number to choose your favorite fruit :5\n",
            "Your favorite fruit is :  grape\n",
            "Congrats! You have entered a valid input.\n",
            "Our fruits are always fresh!\n"
          ]
        }
      ]
    },
    {
      "cell_type": "code",
      "metadata": {
        "id": "VUf1RaUJUmaT"
      },
      "source": [
        ""
      ],
      "execution_count": null,
      "outputs": []
    }
  ]
}