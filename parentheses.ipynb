{
  "nbformat": 4,
  "nbformat_minor": 0,
  "metadata": {
    "colab": {
      "name": "parentheses.ipynb",
      "provenance": [],
      "authorship_tag": "ABX9TyPbp6WlgFM6GV5PkYdqK3tj",
      "include_colab_link": true
    },
    "kernelspec": {
      "name": "python3",
      "display_name": "Python 3"
    },
    "language_info": {
      "name": "python"
    }
  },
  "cells": [
    {
      "cell_type": "markdown",
      "metadata": {
        "id": "view-in-github",
        "colab_type": "text"
      },
      "source": [
        "<a href=\"https://colab.research.google.com/github/bujihalil1936/Python-Assignments/blob/main/parentheses.ipynb\" target=\"_parent\"><img src=\"https://colab.research.google.com/assets/colab-badge.svg\" alt=\"Open In Colab\"/></a>"
      ]
    },
    {
      "cell_type": "code",
      "execution_count": null,
      "metadata": {
        "id": "mQOPsLK0dck1"
      },
      "outputs": [],
      "source": [
        "This problem was asked by Google.\n",
        "Given a string of parentheses, write a function to compute the minimum number of parentheses to be removed to make the string valid (i.e. each open parenthesis is eventually closed).\n",
        "For example, given the string \"()())()\", you should return 1. Given the string \")(\", you should return 2, since we must remove all of them."
      ]
    },
    {
      "cell_type": "code",
      "source": [
        "def replace_par(text):\n",
        "\n",
        "    while '()' in text:\n",
        "        text = text.replace('()', '')\n",
        "\n",
        "    return len(text)\n",
        "\n",
        "replace_par('()()(())())()((()(())')"
      ],
      "metadata": {
        "colab": {
          "base_uri": "https://localhost:8080/"
        },
        "id": "9-_jY3b2dhNE",
        "outputId": "feda1090-f001-4ecd-90c9-2eb125a539eb"
      },
      "execution_count": 1,
      "outputs": [
        {
          "output_type": "execute_result",
          "data": {
            "text/plain": [
              "3"
            ]
          },
          "metadata": {},
          "execution_count": 1
        }
      ]
    }
  ]
}