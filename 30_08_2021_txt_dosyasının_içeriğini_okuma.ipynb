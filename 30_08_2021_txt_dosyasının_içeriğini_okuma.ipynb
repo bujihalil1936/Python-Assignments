{
  "nbformat": 4,
  "nbformat_minor": 5,
  "metadata": {
    "kernelspec": {
      "display_name": "Python 3",
      "language": "python",
      "name": "python3"
    },
    "language_info": {
      "codemirror_mode": {
        "name": "ipython",
        "version": 3
      },
      "file_extension": ".py",
      "mimetype": "text/x-python",
      "name": "python",
      "nbconvert_exporter": "python",
      "pygments_lexer": "ipython3",
      "version": "3.8.8"
    },
    "colab": {
      "name": "30.08.2021 txt dosyasının içeriğini okuma.ipynb",
      "provenance": [],
      "include_colab_link": true
    }
  },
  "cells": [
    {
      "cell_type": "markdown",
      "metadata": {
        "id": "view-in-github",
        "colab_type": "text"
      },
      "source": [
        "<a href=\"https://colab.research.google.com/github/bujihalil1936/Python-Assignments/blob/main/30_08_2021_txt_dosyas%C4%B1n%C4%B1n_i%C3%A7eri%C4%9Fini_okuma.ipynb\" target=\"_parent\"><img src=\"https://colab.research.google.com/assets/colab-badge.svg\" alt=\"Open In Colab\"/></a>"
      ]
    },
    {
      "cell_type": "code",
      "metadata": {
        "id": "63acc4b9",
        "outputId": "6aba7518-de3a-42e6-b4e4-502c9457a96d"
      },
      "source": [
        "file = open(\"C:/fishes.txt\", \"r\")\n",
        "print(file.read())\n",
        "file.close()"
      ],
      "id": "63acc4b9",
      "execution_count": null,
      "outputs": [
        {
          "name": "stdout",
          "output_type": "stream",
          "text": [
            "Orca is a kind of Dolphin.\n",
            "Blue Whale is the largest animal known on earth.\n",
            "Sharks are the sister group to the Rays (batoids).\n",
            "The Tuna Fish can weigh up to 260 kg.\n",
            "Squid and Octopus are in the same class.\n"
          ]
        }
      ]
    },
    {
      "cell_type": "code",
      "metadata": {
        "id": "a8bcc3c4",
        "outputId": "e1ca040f-1eba-4b35-985c-d0030efe3650"
      },
      "source": [
        "sea = open(\"C:/fishes.txt\", \"r\")\n",
        "print(sea.readline(13))\n",
        "print(sea.readline(13))\n",
        "print(sea.readline(13))\n",
        "print(sea.readline(13))\n",
        "\n",
        "sea.close()"
      ],
      "id": "a8bcc3c4",
      "execution_count": null,
      "outputs": [
        {
          "name": "stdout",
          "output_type": "stream",
          "text": [
            "Orca is a kin\n",
            "d of Dolphin.\n",
            "\n",
            "\n",
            "Blue Whale is\n"
          ]
        }
      ]
    },
    {
      "cell_type": "code",
      "metadata": {
        "id": "4aa6bfd9",
        "outputId": "16ea411f-e23c-4653-94c8-15b318a84fbe"
      },
      "source": [
        "sea = open(\"C:/fishes.txt\", \"r\")\n",
        "part1=print(sea.readline(13))\n",
        "part2=print(sea.readline(13))\n",
        "part3=print(sea.readline(13))\n",
        "part4=print(sea.readline(13))\n",
        "\n",
        "sea.close()"
      ],
      "id": "4aa6bfd9",
      "execution_count": null,
      "outputs": [
        {
          "name": "stdout",
          "output_type": "stream",
          "text": [
            "Orca is a kin\n",
            "d of Dolphin.\n",
            "\n",
            "\n",
            "Blue Whale is\n"
          ]
        }
      ]
    },
    {
      "cell_type": "code",
      "metadata": {
        "id": "e9d83986",
        "outputId": "6d6f9057-96d8-412d-aeb1-a43e614648df"
      },
      "source": [
        "rumi = open(\"C:/rumi.txt\", \"r\")\n",
        "print(rumi.readline())\n",
        "print(rumi.readline())\n",
        "print(rumi.readline(19))\n",
        "\n",
        "rumi.close()"
      ],
      "id": "e9d83986",
      "execution_count": null,
      "outputs": [
        {
          "name": "stdout",
          "output_type": "stream",
          "text": [
            "I want to sing\n",
            "\n",
            "Like the birds sing,\n",
            "\n",
            "Not worrying about\n",
            "\n"
          ]
        }
      ]
    },
    {
      "cell_type": "code",
      "metadata": {
        "id": "8a1e4f49"
      },
      "source": [
        ""
      ],
      "id": "8a1e4f49",
      "execution_count": null,
      "outputs": []
    },
    {
      "cell_type": "code",
      "metadata": {
        "id": "c2f15df9"
      },
      "source": [
        ""
      ],
      "id": "c2f15df9",
      "execution_count": null,
      "outputs": []
    },
    {
      "cell_type": "code",
      "metadata": {
        "id": "ed3aa7ed"
      },
      "source": [
        ""
      ],
      "id": "ed3aa7ed",
      "execution_count": null,
      "outputs": []
    }
  ]
}