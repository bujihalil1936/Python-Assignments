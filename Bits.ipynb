{
  "nbformat": 4,
  "nbformat_minor": 0,
  "metadata": {
    "colab": {
      "name": "Bits.ipynb",
      "provenance": [],
      "authorship_tag": "ABX9TyM3RAikFBYLCKhZdykuqY8W",
      "include_colab_link": true
    },
    "kernelspec": {
      "name": "python3",
      "display_name": "Python 3"
    },
    "language_info": {
      "name": "python"
    }
  },
  "cells": [
    {
      "cell_type": "markdown",
      "metadata": {
        "id": "view-in-github",
        "colab_type": "text"
      },
      "source": [
        "<a href=\"https://colab.research.google.com/github/bujihalil1936/Python-Assignments/blob/main/Bits.ipynb\" target=\"_parent\"><img src=\"https://colab.research.google.com/assets/colab-badge.svg\" alt=\"Open In Colab\"/></a>"
      ]
    },
    {
      "cell_type": "markdown",
      "source": [
        "This problem was asked by Facebook.\n",
        "Given three 32-bit integers x, y, and b, return x if b is 1 and y if b is 0, using only mathematical or bit operations. You can assume b can only be 1 or 0."
      ],
      "metadata": {
        "id": "nUkOpr0ffbD4"
      }
    },
    {
      "cell_type": "code",
      "source": [
        "def bits(x, y, b):\n",
        "    return x * b + y * (1 - b)\n",
        "\n",
        "bits(5, 10, 0)"
      ],
      "metadata": {
        "colab": {
          "base_uri": "https://localhost:8080/"
        },
        "id": "iU1nsNdHfcY_",
        "outputId": "84c3b1ce-dd0c-4867-b9a3-06ddc71fd040"
      },
      "execution_count": 1,
      "outputs": [
        {
          "output_type": "execute_result",
          "data": {
            "text/plain": [
              "10"
            ]
          },
          "metadata": {},
          "execution_count": 1
        }
      ]
    }
  ]
}