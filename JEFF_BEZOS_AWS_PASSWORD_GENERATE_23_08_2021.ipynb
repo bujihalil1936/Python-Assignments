{
  "nbformat": 4,
  "nbformat_minor": 0,
  "metadata": {
    "colab": {
      "name": "JEFF BEZOS AWS PASSWORD GENERATE 23.08.2021.ipynb",
      "provenance": [],
      "collapsed_sections": [],
      "authorship_tag": "ABX9TyPLdTdLyw5GbP9Mzyg+ifAN",
      "include_colab_link": true
    },
    "kernelspec": {
      "name": "python3",
      "display_name": "Python 3"
    },
    "language_info": {
      "name": "python"
    }
  },
  "cells": [
    {
      "cell_type": "markdown",
      "metadata": {
        "id": "view-in-github",
        "colab_type": "text"
      },
      "source": [
        "<a href=\"https://colab.research.google.com/github/bujihalil1936/Python-Assignments/blob/main/JEFF_BEZOS_AWS_PASSWORD_GENERATE_23_08_2021.ipynb\" target=\"_parent\"><img src=\"https://colab.research.google.com/assets/colab-badge.svg\" alt=\"Open In Colab\"/></a>"
      ]
    },
    {
      "cell_type": "code",
      "metadata": {
        "id": "ssgaCbyJ98US"
      },
      "source": [
        "import random"
      ],
      "execution_count": 13,
      "outputs": []
    },
    {
      "cell_type": "code",
      "metadata": {
        "colab": {
          "base_uri": "https://localhost:8080/",
          "height": 35
        },
        "id": "JgY2ql78BIJK",
        "outputId": "8f3772ed-119f-4f18-ffd5-6587788ac082"
      },
      "source": [
        "chr(68)"
      ],
      "execution_count": 14,
      "outputs": [
        {
          "output_type": "execute_result",
          "data": {
            "application/vnd.google.colaboratory.intrinsic+json": {
              "type": "string"
            },
            "text/plain": [
              "'D'"
            ]
          },
          "metadata": {},
          "execution_count": 14
        }
      ]
    },
    {
      "cell_type": "code",
      "metadata": {
        "colab": {
          "base_uri": "https://localhost:8080/"
        },
        "id": "LEu7f3qUBILk",
        "outputId": "ebd8d5e4-5c3a-459f-9be7-f74aad421f98"
      },
      "source": [
        "random.randint(65, 90)"
      ],
      "execution_count": 16,
      "outputs": [
        {
          "output_type": "execute_result",
          "data": {
            "text/plain": [
              "73"
            ]
          },
          "metadata": {},
          "execution_count": 16
        }
      ]
    },
    {
      "cell_type": "code",
      "metadata": {
        "colab": {
          "base_uri": "https://localhost:8080/",
          "height": 35
        },
        "id": "695Tty9lBIOH",
        "outputId": "aefaafbc-3f0e-416e-a17a-62f60a917e54"
      },
      "source": [
        "chr(random.randint(65, 90))"
      ],
      "execution_count": 17,
      "outputs": [
        {
          "output_type": "execute_result",
          "data": {
            "application/vnd.google.colaboratory.intrinsic+json": {
              "type": "string"
            },
            "text/plain": [
              "'Y'"
            ]
          },
          "metadata": {},
          "execution_count": 17
        }
      ]
    },
    {
      "cell_type": "code",
      "metadata": {
        "id": "eOcHEYA0COpz"
      },
      "source": [
        "#['X', 'Y', 'A']"
      ],
      "execution_count": null,
      "outputs": []
    },
    {
      "cell_type": "code",
      "metadata": {
        "colab": {
          "base_uri": "https://localhost:8080/"
        },
        "id": "Sxtq6DdnBIQv",
        "outputId": "0c94e76d-5512-4ac0-a2da-1ea9e5edd3ed"
      },
      "source": [
        "uppers = [chr(random.randint(65, 90)) for i in range(3)]\n",
        "uppers"
      ],
      "execution_count": 19,
      "outputs": [
        {
          "output_type": "execute_result",
          "data": {
            "text/plain": [
              "['P', 'O', 'L']"
            ]
          },
          "metadata": {},
          "execution_count": 19
        }
      ]
    },
    {
      "cell_type": "code",
      "metadata": {
        "colab": {
          "base_uri": "https://localhost:8080/",
          "height": 35
        },
        "id": "2UTxtXPBBIWL",
        "outputId": "09d81816-595a-4c09-8b51-5fc331437986"
      },
      "source": [
        "\"\".join(uppers)"
      ],
      "execution_count": 20,
      "outputs": [
        {
          "output_type": "execute_result",
          "data": {
            "application/vnd.google.colaboratory.intrinsic+json": {
              "type": "string"
            },
            "text/plain": [
              "'POL'"
            ]
          },
          "metadata": {},
          "execution_count": 20
        }
      ]
    },
    {
      "cell_type": "code",
      "metadata": {
        "colab": {
          "base_uri": "https://localhost:8080/"
        },
        "id": "Ri19WRELBIYw",
        "outputId": "6f24691a-b88d-449a-cdb8-b4a343ef25c3"
      },
      "source": [
        "lowers=[chr(random.randint(97, 122)) for i in range(3)]\n",
        "lowers"
      ],
      "execution_count": 21,
      "outputs": [
        {
          "output_type": "execute_result",
          "data": {
            "text/plain": [
              "['b', 'o', 'n']"
            ]
          },
          "metadata": {},
          "execution_count": 21
        }
      ]
    },
    {
      "cell_type": "code",
      "metadata": {
        "colab": {
          "base_uri": "https://localhost:8080/"
        },
        "id": "Ve6I7KupBIbi",
        "outputId": "914b213b-72d5-4d28-a92b-9b993fc7932d"
      },
      "source": [
        "numbers=[chr(random.randint(48, 57)) for i in range(3)]\n",
        "numbers"
      ],
      "execution_count": 26,
      "outputs": [
        {
          "output_type": "execute_result",
          "data": {
            "text/plain": [
              "['8', '4', '4']"
            ]
          },
          "metadata": {},
          "execution_count": 26
        }
      ]
    },
    {
      "cell_type": "code",
      "metadata": {
        "colab": {
          "base_uri": "https://localhost:8080/",
          "height": 35
        },
        "id": "INldpMuRBId6",
        "outputId": "b0e33db7-08ed-492a-f03f-9fef4571d946"
      },
      "source": [
        "chars = chr(random.randint(33, 47)) + chr(random.randint(58, 64))\n",
        "chars"
      ],
      "execution_count": 28,
      "outputs": [
        {
          "output_type": "execute_result",
          "data": {
            "application/vnd.google.colaboratory.intrinsic+json": {
              "type": "string"
            },
            "text/plain": [
              "',<'"
            ]
          },
          "metadata": {},
          "execution_count": 28
        }
      ]
    },
    {
      "cell_type": "code",
      "metadata": {
        "colab": {
          "base_uri": "https://localhost:8080/",
          "height": 35
        },
        "id": "Zts7pz1gBIg0",
        "outputId": "11da7573-28ca-4383-c208-86af19276e46"
      },
      "source": [
        "password = \"\".join(uppers) +  \"\".join(lowers) +  \"\".join(numbers) +  \"\".join(chars) \n",
        "password"
      ],
      "execution_count": 29,
      "outputs": [
        {
          "output_type": "execute_result",
          "data": {
            "application/vnd.google.colaboratory.intrinsic+json": {
              "type": "string"
            },
            "text/plain": [
              "'POLbon844,<'"
            ]
          },
          "metadata": {},
          "execution_count": 29
        }
      ]
    },
    {
      "cell_type": "code",
      "metadata": {
        "id": "faJkqpilBIjW"
      },
      "source": [
        "random.shuffle(uppers)"
      ],
      "execution_count": null,
      "outputs": []
    },
    {
      "cell_type": "code",
      "metadata": {
        "colab": {
          "base_uri": "https://localhost:8080/"
        },
        "id": "80Q0LGMSBIlw",
        "outputId": "47412abb-5a85-46a5-fc85-e9c4b627acd6"
      },
      "source": [
        "uppers"
      ],
      "execution_count": 30,
      "outputs": [
        {
          "output_type": "execute_result",
          "data": {
            "text/plain": [
              "['P', 'O', 'L']"
            ]
          },
          "metadata": {},
          "execution_count": 30
        }
      ]
    },
    {
      "cell_type": "code",
      "metadata": {
        "id": "yNOnkhGnBIoN"
      },
      "source": [
        "def shuffleit(string) :\n",
        "  templist = list(string)\n",
        "  random.shuffle(templist)\n",
        "  return \"\".join(templist)"
      ],
      "execution_count": 31,
      "outputs": []
    },
    {
      "cell_type": "code",
      "metadata": {
        "colab": {
          "base_uri": "https://localhost:8080/",
          "height": 35
        },
        "id": "uE0zVd9mBIqc",
        "outputId": "32bf0163-a62e-40f0-fc0d-1c16843a42d2"
      },
      "source": [
        "passw = shuffleit(password)\n",
        "passw"
      ],
      "execution_count": 32,
      "outputs": [
        {
          "output_type": "execute_result",
          "data": {
            "application/vnd.google.colaboratory.intrinsic+json": {
              "type": "string"
            },
            "text/plain": [
              "'<no4Ob48,LP'"
            ]
          },
          "metadata": {},
          "execution_count": 32
        }
      ]
    },
    {
      "cell_type": "markdown",
      "metadata": {
        "id": "GAZJAR3WFNIk"
      },
      "source": [
        "googleda önerilen şifre çıkıyor her şifre girişi yaptıgımızda böyle yapılıyor\n",
        "11 karakterli şifremiz belki hacklemek isteseler bir haftada kırılır... :-))"
      ]
    }
  ]
}